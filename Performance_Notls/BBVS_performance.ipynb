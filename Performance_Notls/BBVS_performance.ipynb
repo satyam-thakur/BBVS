{
  "cells": [
    {
      "cell_type": "code",
      "execution_count": 5,
      "metadata": {
        "colab": {
          "base_uri": "https://localhost:8080/",
          "height": 206
        },
        "collapsed": true,
        "id": "KOEfKXgdA5gv",
        "outputId": "1c1c4fe1-bfef-429a-c332-d0c6b9ca367d"
      },
      "outputs": [
        {
          "ename": "ModuleNotFoundError",
          "evalue": "No module named 'pandas'",
          "output_type": "error",
          "traceback": [
            "\u001b[0;31m---------------------------------------------------------------------------\u001b[0m",
            "\u001b[0;31mModuleNotFoundError\u001b[0m                       Traceback (most recent call last)",
            "Cell \u001b[0;32mIn[5], line 1\u001b[0m\n\u001b[0;32m----> 1\u001b[0m \u001b[38;5;28;01mimport\u001b[39;00m\u001b[38;5;250m \u001b[39m\u001b[38;5;21;01mpandas\u001b[39;00m\u001b[38;5;250m \u001b[39m\u001b[38;5;28;01mas\u001b[39;00m\u001b[38;5;250m \u001b[39m\u001b[38;5;21;01mpd\u001b[39;00m\n\u001b[1;32m      2\u001b[0m \u001b[38;5;28;01mimport\u001b[39;00m\u001b[38;5;250m \u001b[39m\u001b[38;5;21;01mmatplotlib\u001b[39;00m\u001b[38;5;21;01m.\u001b[39;00m\u001b[38;5;21;01mpyplot\u001b[39;00m\u001b[38;5;250m \u001b[39m\u001b[38;5;28;01mas\u001b[39;00m\u001b[38;5;250m \u001b[39m\u001b[38;5;21;01mplt\u001b[39;00m\n\u001b[1;32m      3\u001b[0m pre_voting \u001b[38;5;241m=\u001b[39m pd\u001b[38;5;241m.\u001b[39mread_csv(\u001b[38;5;124m\"\u001b[39m\u001b[38;5;124mlatency - pre-voting.csv\u001b[39m\u001b[38;5;124m\"\u001b[39m)\n",
            "\u001b[0;31mModuleNotFoundError\u001b[0m: No module named 'pandas'"
          ]
        }
      ],
      "source": [
        "import pandas as pd\n",
        "import matplotlib.pyplot as plt\n",
        "pre_voting = pd.read_csv(\"latency - pre-voting.csv\")\n",
        "voting = pd.read_csv(\"latency - voting.csv\")\n",
        "post_voting = pd.read_csv(\"latency - post-voting.csv\")\n",
        "# pre_voting.head()\n",
        "voting.head()\n",
        "# post_voting.head()"
      ]
    },
    {
      "cell_type": "code",
      "execution_count": null,
      "metadata": {
        "colab": {
          "base_uri": "https://localhost:8080/",
          "height": 206
        },
        "id": "U87y_irgC-jW",
        "outputId": "5afcc897-7f20-4ca7-ea28-0ecdcc025f92"
      },
      "outputs": [],
      "source": [
        "# Exclude columns with NaN values\n",
        "pre_voting = pre_voting.dropna(axis=1, how='any')\n",
        "voting = voting.dropna(axis=1, how='any')\n",
        "post_voting = post_voting.dropna(axis=1, how='any')\n",
        "voting.head()"
      ]
    },
    {
      "cell_type": "code",
      "execution_count": null,
      "metadata": {
        "colab": {
          "base_uri": "https://localhost:8080/"
        },
        "id": "xB8q4FYnEpvZ",
        "outputId": "813bb555-74d9-4aed-f663-fd1e33fc2eaa"
      },
      "outputs": [],
      "source": [
        "# Calculate average of each column, excluding the first row\n",
        "averages_pre_voting = pre_voting.iloc[1:].mean()\n",
        "averages_voting = voting.iloc[1:].mean()\n",
        "averages_post_voting = post_voting.iloc[1:].mean()\n",
        "\n",
        "print(averages_pre_voting)\n",
        "print(averages_voting)\n",
        "print(averages_post_voting)"
      ]
    },
    {
      "cell_type": "code",
      "execution_count": null,
      "metadata": {
        "colab": {
          "base_uri": "https://localhost:8080/",
          "height": 472
        },
        "id": "J43Ie5ChE8rY",
        "outputId": "e360c3c6-aac0-4e80-bd0d-cbad2a174426"
      },
      "outputs": [],
      "source": [
        "# Create the plot\n",
        "plt.plot(averages_pre_voting.index, averages_pre_voting.values)\n",
        "\n",
        "# Set x and y labels\n",
        "plt.xlabel(\"Validators\")\n",
        "plt.ylabel(\"Average Latency (ms)\")\n",
        "plt.title(\"Average Latency of Validators - Pre-Voting Phase\")\n",
        "# Display the plot\n",
        "plt.show()"
      ]
    },
    {
      "cell_type": "code",
      "execution_count": null,
      "metadata": {
        "colab": {
          "base_uri": "https://localhost:8080/",
          "height": 472
        },
        "id": "B_348HN4L4Tv",
        "outputId": "cc069c71-67e8-4f84-ccc7-7f5fb83750f0"
      },
      "outputs": [],
      "source": [
        "# Create the plot\n",
        "plt.plot(averages_voting.index, averages_voting.values)\n",
        "\n",
        "# Set x and y labels\n",
        "plt.xlabel(\"Validators\")\n",
        "plt.ylabel(\"Average Latency (ms)\")\n",
        "plt.title(\"Average Latency of Validators - Voting Phase\")\n",
        "# Display the plot\n",
        "plt.show()"
      ]
    },
    {
      "cell_type": "code",
      "execution_count": null,
      "metadata": {
        "colab": {
          "base_uri": "https://localhost:8080/",
          "height": 472
        },
        "id": "xUNnaCpoPZZb",
        "outputId": "fe64caf7-e612-4b8f-f3a7-fa70a722971f"
      },
      "outputs": [],
      "source": [
        "# Create the plot\n",
        "plt.plot(averages_post_voting.index, averages_post_voting.values)\n",
        "\n",
        "# Set x and y labels\n",
        "plt.xlabel(\"Validators\")\n",
        "plt.ylabel(\"Average Latency (ms)\")\n",
        "plt.title(\"Average Latency of Validators - Post-voting Phase\")\n",
        "# Display the plot\n",
        "plt.show()"
      ]
    }
  ],
  "metadata": {
    "colab": {
      "provenance": []
    },
    "kernelspec": {
      "display_name": "Python 3",
      "name": "python3"
    },
    "language_info": {
      "codemirror_mode": {
        "name": "ipython",
        "version": 3
      },
      "file_extension": ".py",
      "mimetype": "text/x-python",
      "name": "python",
      "nbconvert_exporter": "python",
      "pygments_lexer": "ipython3",
      "version": "3.8.10"
    }
  },
  "nbformat": 4,
  "nbformat_minor": 0
}
